{
  "nbformat": 4,
  "nbformat_minor": 0,
  "metadata": {
    "colab": {
      "provenance": [],
      "collapsed_sections": [
        "y5qaI1H8nB58",
        "8zM2Bk7UnjUO",
        "lzMipk87STYX",
        "HI8_Gh9fBTdx",
        "4kY8W7X7BfjW",
        "-T8sLEJcSjHJ",
        "5-4Vy_ZACuxY",
        "9nEPlpdMuDCr",
        "Ikn7b-xP4zs1"
      ]
    },
    "kernelspec": {
      "name": "python3",
      "display_name": "Python 3"
    },
    "language_info": {
      "name": "python"
    }
  },
  "cells": [
    {
      "cell_type": "markdown",
      "source": [
        "\n",
        "### **Basic k-means clustering**"
      ],
      "metadata": {
        "id": "8zM2Bk7UnjUO"
      }
    },
    {
      "cell_type": "code",
      "execution_count": null,
      "metadata": {
        "id": "X7DeT7PqnAif"
      },
      "outputs": [],
      "source": [
        "from sklearn.datasets import load_iris\n",
        "from math import sqrt\n",
        "import random\n",
        "import numpy as np\n",
        "import matplotlib.pyplot as plt\n",
        "\n",
        "data = load_iris()\n",
        "data = data.data[:,:2]"
      ]
    },
    {
      "cell_type": "markdown",
      "source": [
        "### **For k = 5:**"
      ],
      "metadata": {
        "id": "lzMipk87STYX"
      }
    },
    {
      "cell_type": "code",
      "source": [
        "k1 = 5\n",
        "itr = 20\n",
        "f1 = K_mean(k1, data, itr)"
      ],
      "metadata": {
        "id": "jH1AJVawC1Ki",
        "colab": {
          "base_uri": "https://localhost:8080/",
          "height": 295
        },
        "outputId": "dd013c79-93a0-46df-fe7e-353bd1649c6a"
      },
      "execution_count": null,
      "outputs": [
        {
          "output_type": "display_data",
          "data": {
            "text/plain": [
              "<Figure size 432x288 with 1 Axes>"
            ],
            "image/png": "[encoded data removed]"
          },
          "metadata": {
            "needs_background": "light"
          }
        }
      ]
    },
    {
      "cell_type": "markdown",
      "source": [
        "### **For k = 10:**"
      ],
      "metadata": {
        "id": "HI8_Gh9fBTdx"
      }
    },
    {
      "cell_type": "code",
      "source": [
        "k2 = 10\n",
        "f2 = K_mean(k2, data, itr)"
      ],
      "metadata": {
        "colab": {
          "base_uri": "https://localhost:8080/",
          "height": 295
        },
        "id": "Qyx5D8fTBYJF",
        "outputId": "73347635-e6dc-428b-a01e-34d7e40b19a8"
      },
      "execution_count": null,
      "outputs": [
        {
          "output_type": "display_data",
          "data": {
            "text/plain": [
              "<Figure size 432x288 with 1 Axes>"
            ],
            "image/png": "[encoded data removed]"
          },
          "metadata": {
            "needs_background": "light"
          }
        }
      ]
    },
    {
      "cell_type": "markdown",
      "source": [
        "### **For k = 20:**"
      ],
      "metadata": {
        "id": "4kY8W7X7BfjW"
      }
    },
    {
      "cell_type": "code",
      "source": [
        "k3 = 20\n",
        "f3 = K_mean(k3, data, itr)"
      ],
      "metadata": {
        "colab": {
          "base_uri": "https://localhost:8080/",
          "height": 295
        },
        "id": "QrSjsD2XBiX8",
        "outputId": "8ef93e0e-505c-4227-fe79-2c80b9baf473"
      },
      "execution_count": null,
      "outputs": [
        {
          "output_type": "display_data",
          "data": {
            "text/plain": [
              "<Figure size 432x288 with 1 Axes>"
            ],
            "image/png": "[encoded data removed]"
          },
          "metadata": {
            "needs_background": "light"
          }
        }
      ]
    },
    {
      "cell_type": "markdown",
      "source": [
        "## **Functions:**"
      ],
      "metadata": {
        "id": "-T8sLEJcSjHJ"
      }
    },
    {
      "cell_type": "code",
      "source": [
        "# A function for calculating Euclidean Distance:\n",
        "def Euclidean_Distance(in1, in2):\n",
        "  distance = sqrt(sum((in1 - in2)**2))\n",
        "  return distance\n",
        "\n",
        "# ------------------------------------------------------------------------------\n",
        "# A function for choosing k random centroids:\n",
        "def K_Centroids(k, data):\n",
        "  centroids = []\n",
        "  for i in range(k):\n",
        "    indx = random.randint(0 , data.shape[0]-1)\n",
        "    C = data[indx]\n",
        "    centroids.append(C)\n",
        "  return centroids\n",
        "\n",
        "# ------------------------------------------------------------------------------\n",
        "# A function for clustering the data:\n",
        "def Clustering(k, data, centroids):\n",
        "  labels = []\n",
        "  for point in data:\n",
        "    distance = []\n",
        "\n",
        "    # calculate distance of every point with each of the clusters\n",
        "    for centroid in centroids:\n",
        "      dist = Euclidean_Distance(point, centroid)\n",
        "      distance.append(dist)\n",
        "\n",
        "    labels.append(np.argmin(distance))\n",
        "  return labels\n",
        "\n",
        "# ------------------------------------------------------------------------------\n",
        "# Cost function:\n",
        "def Cost_Function(k, data, centroids, labels):\n",
        "  dist_sum = 0\n",
        "  for i in range(k):\n",
        "    cluster_sum = 0\n",
        "    for j in range(0, data.shape[0]):\n",
        "      if labels[j] == i:\n",
        "        cluster_sum += Euclidean_Distance(data[j], centroids[i])\n",
        "    dist_sum += cluster_sum\n",
        "  return dist_sum\n",
        "  \n",
        "# ------------------------------------------------------------------------------\n",
        "# A function for updating centroids:\n",
        "def Update_Centroids(k, data, centroids, labels):\n",
        "  updated_centroids = []\n",
        "  for i in range(k):\n",
        "    cluster_points = []\n",
        "    for j in range(0, data.shape[0]-1):\n",
        "      if labels[j] == i:\n",
        "        cluster_points.append(data[j])\n",
        "\n",
        "    cluster_avg = np.mean(cluster_points, axis = 0)\n",
        "    updated_centroids.append(cluster_avg)\n",
        "  return updated_centroids\n",
        "\n",
        "# ------------------------------------------------------------------------------\n",
        "# Overall function for implementing K-mean algorithm:\n",
        "def K_mean(k, data, itr):\n",
        "  cost_func = []\n",
        "  # Choosing the primary centroids:\n",
        "  centroids = K_Centroids(k, data)\n",
        "\n",
        "  for i in range(itr):\n",
        "    # Clustering:\n",
        "    labels = Clustering(k, data, centroids)\n",
        "\n",
        "    # Cost Function:\n",
        "    cost_func.append(Cost_Function(k, data, centroids, labels))\n",
        "\n",
        "    # Updating centroids:\n",
        "    centroids = Update_Centroids(k, data, centroids, labels)\n",
        "\n",
        "  # Plotting cost function:\n",
        "  Itr = list(range(1, itr + 1))\n",
        "  plt.plot(Itr, cost_func, color = 'red')\n",
        "  plt.xlabel('Iterations')\n",
        "  plt.ylabel('Cost function')\n",
        "  plt.title('Cost Function for k = {}'.format(k))\n",
        "  plt.show()\n",
        "  return cost_func"
      ],
      "metadata": {
        "id": "CrUToA5lSgYg"
      },
      "execution_count": null,
      "outputs": []
    },
    {
      "cell_type": "markdown",
      "source": [
        "\n",
        "### **Ratio**"
      ],
      "metadata": {
        "id": "5-4Vy_ZACuxY"
      }
    },
    {
      "cell_type": "code",
      "source": [
        "# For k = 5:\n",
        "itr = 100   \n",
        "ratio1 = K_mean_Ratio(k1, data, itr)"
      ],
      "metadata": {
        "colab": {
          "base_uri": "https://localhost:8080/",
          "height": 295
        },
        "id": "lwX-uyZn2QJF",
        "outputId": "e859e6d3-b801-449e-e348-5b309f077c40"
      },
      "execution_count": null,
      "outputs": [
        {
          "output_type": "display_data",
          "data": {
            "text/plain": [
              "<Figure size 432x288 with 1 Axes>"
            ],
            "image/png": "[encoded data removed]"
          },
          "metadata": {
            "needs_background": "light"
          }
        }
      ]
    },
    {
      "cell_type": "code",
      "source": [
        "# For k = 10:\n",
        "ratio2 = K_mean_Ratio(k2, data, itr)"
      ],
      "metadata": {
        "colab": {
          "base_uri": "https://localhost:8080/",
          "height": 295
        },
        "id": "BsSfaxJm2sWS",
        "outputId": "828bf05f-03a4-4421-99bb-b38ac84d124f"
      },
      "execution_count": null,
      "outputs": [
        {
          "output_type": "display_data",
          "data": {
            "text/plain": [
              "<Figure size 432x288 with 1 Axes>"
            ],
            "image/png": "[encoded data removed]"
          },
          "metadata": {
            "needs_background": "light"
          }
        }
      ]
    },
    {
      "cell_type": "code",
      "source": [
        "# For k = 20:\n",
        "ratio3 = K_mean_Ratio(k3, data, itr)"
      ],
      "metadata": {
        "colab": {
          "base_uri": "https://localhost:8080/",
          "height": 295
        },
        "id": "QlkIZO6D2xZB",
        "outputId": "1c5050e4-992f-433e-9b3a-142da2cb8bad"
      },
      "execution_count": null,
      "outputs": [
        {
          "output_type": "display_data",
          "data": {
            "text/plain": [
              "<Figure size 432x288 with 1 Axes>"
            ],
            "image/png": "[encoded data removed]"
          },
          "metadata": {
            "needs_background": "light"
          }
        }
      ]
    },
    {
      "cell_type": "code",
      "source": [
        "# Plotting the ratio graph for all three cases:\n",
        "Itr = list(range(1, itr + 1))\n",
        "plt.plot(Itr, ratio1, color = 'blue')\n",
        "plt.plot(Itr, ratio2, color = 'red')\n",
        "plt.plot(Itr, ratio3, color = 'green')\n",
        "plt.xlabel('Iterations')\n",
        "plt.ylabel('Ratio')\n",
        "plt.legend(['k = 5','k = 10','k = 20'])\n",
        "plt.title('Ratio Graph')\n",
        "plt.show()"
      ],
      "metadata": {
        "id": "NSEvvco5DZSM",
        "colab": {
          "base_uri": "https://localhost:8080/",
          "height": 295
        },
        "outputId": "837aac56-37ca-4db7-c1fd-9bedd6887b56"
      },
      "execution_count": null,
      "outputs": [
        {
          "output_type": "display_data",
          "data": {
            "text/plain": [
              "<Figure size 432x288 with 1 Axes>"
            ],
            "image/png": "[encoded data removed]"
          },
          "metadata": {
            "needs_background": "light"
          }
        }
      ]
    },
    {
      "cell_type": "markdown",
      "source": [
        "## **Functions:**"
      ],
      "metadata": {
        "id": "9nEPlpdMuDCr"
      }
    },
    {
      "cell_type": "code",
      "source": [
        "# A function for calculating outer distance:\n",
        "def Outer_Distance(k, data, centroids, labels):\n",
        "  out_dist_sum = 0\n",
        "  for i in range(k):\n",
        "    out_cluster_sum = 0\n",
        "    for j in range(0, data.shape[0]):\n",
        "      if labels[j] == i:\n",
        "        for c in range(k):\n",
        "          if c != i:\n",
        "            out_cluster_sum += Euclidean_Distance(data[j], centroids[c])\n",
        "    out_dist_sum += out_cluster_sum\n",
        "  return out_dist_sum\n",
        "\n",
        "# ------------------------------------------------------------------------------\n",
        "# A function for calculating Ratio:\n",
        "def Ratio(outer_distance, inner_distance):\n",
        "  ratio = outer_distance/(outer_distance + inner_distance)\n",
        "  return ratio\n",
        "\n",
        "# ------------------------------------------------------------------------------\n",
        "# A function for doing the algorithm and find ratio:\n",
        "def K_mean_Ratio(k, data, itr):\n",
        "  ratio_list = []\n",
        "  # Choosing the primary centroids:\n",
        "  centroids = K_Centroids(k, data)\n",
        "\n",
        "  for i in range(itr):\n",
        "    # Clustering:\n",
        "    labels = Clustering(k, data, centroids)\n",
        "\n",
        "    # Inner distance:\n",
        "    inner_distance = Cost_Function(k, data, centroids, labels)\n",
        "\n",
        "    # Outer distance:\n",
        "    outer_distance = Outer_Distance(k, data, centroids, labels)\n",
        "\n",
        "    # Ratio calculation:\n",
        "    ratio_list.append(Ratio(outer_distance, inner_distance))\n",
        "\n",
        "    # Updating centroids:\n",
        "    centroids = Update_Centroids(k, data, centroids, labels)\n",
        "\n",
        "  # Plotting cost function:\n",
        "  Itr = list(range(1, itr + 1))\n",
        "  plt.plot(Itr, ratio_list, color = 'blue')\n",
        "  plt.xlabel('Iterations')\n",
        "  plt.ylabel('Ratio')\n",
        "  plt.title('Ratio for k = {}'.format(k))\n",
        "  plt.show()\n",
        "  return ratio_list"
      ],
      "metadata": {
        "id": "1LfC4czouCZT"
      },
      "execution_count": null,
      "outputs": []
    },
    {
      "cell_type": "markdown",
      "source": [
        "### **Mean and Variance of Cost Function and Ratio:**\n",
        "**Cost Function:**"
      ],
      "metadata": {
        "id": "Ikn7b-xP4zs1"
      }
    },
    {
      "cell_type": "code",
      "source": [
        "# For k = 5:\n",
        "print(\"Mean and Variance of the cost function for k = 5:\")\n",
        "print(\"Mean: {}\".format(np.mean(f1)))\n",
        "print(\"Variance: {}\\n\".format(np.var(f1)))\n",
        "\n",
        "# For k = 10:\n",
        "print(\"Mean and Variance of the cost function for k = 10:\")\n",
        "print(\"Mean: {}\".format(np.mean(f2)))\n",
        "print(\"Variance: {}\\n\".format(np.var(f2)))\n",
        "\n",
        "# For k = 20:\n",
        "print(\"Mean and Variance of the cost function for k = 20:\")\n",
        "print(\"Mean: {}\".format(np.mean(f3)))\n",
        "print(\"Variance: {}\\n\".format(np.var(f3)))"
      ],
      "metadata": {
        "colab": {
          "base_uri": "https://localhost:8080/"
        },
        "id": "HpWeLPnu48rW",
        "outputId": "4ae0b16e-ba3c-4557-a63e-6af497eae817"
      },
      "execution_count": null,
      "outputs": [
        {
          "output_type": "stream",
          "name": "stdout",
          "text": [
            "Mean and Variance of the cost function for k = 5:\n",
            "Mean: 55.343927072904094\n",
            "Variance: 79.18100866079227\n",
            "\n",
            "Mean and Variance of the cost function for k = 10:\n",
            "Mean: 37.99369267378161\n",
            "Variance: 12.32722445298172\n",
            "\n",
            "Mean and Variance of the cost function for k = 20:\n",
            "Mean: 23.891712434902786\n",
            "Variance: 5.737715185414523\n",
            "\n"
          ]
        }
      ]
    },
    {
      "cell_type": "markdown",
      "source": [
        "**Ratio:**"
      ],
      "metadata": {
        "id": "DoMMB7ly7fWW"
      }
    },
    {
      "cell_type": "code",
      "source": [
        "# For k = 5:\n",
        "print(\"Mean and Variance of the ratio for k = 5:\")\n",
        "print(\"Mean: {}\".format(np.mean(ratio1)))\n",
        "print(\"Variance: {}\\n\".format(np.var(ratio1)))\n",
        "\n",
        "# For k = 10:\n",
        "print(\"Mean and Variance of the ratio for k = 10:\")\n",
        "print(\"Mean: {}\".format(np.mean(ratio2)))\n",
        "print(\"Variance: {}\\n\".format(np.var(ratio2)))\n",
        "\n",
        "# For k = 20:\n",
        "print(\"Mean and Variance of the ratio for k = 20:\")\n",
        "print(\"Mean: {}\".format(np.mean(ratio3)))\n",
        "print(\"Variance: {}\\n\".format(np.var(ratio3)))"
      ],
      "metadata": {
        "colab": {
          "base_uri": "https://localhost:8080/"
        },
        "id": "R5Hqxy7b7itX",
        "outputId": "fbadcce7-7869-4eee-a751-e336c7380fb8"
      },
      "execution_count": null,
      "outputs": [
        {
          "output_type": "stream",
          "name": "stdout",
          "text": [
            "Mean and Variance of the ratio for k = 5:\n",
            "Mean: 0.9414292275598478\n",
            "Variance: 1.7773399695483444e-05\n",
            "\n",
            "Mean and Variance of the ratio for k = 10:\n",
            "Mean: 0.9780916771127116\n",
            "Variance: 4.3600898004648867e-07\n",
            "\n",
            "Mean and Variance of the ratio for k = 20:\n",
            "Mean: 0.9929543736388433\n",
            "Variance: 2.8909056233338587e-08\n",
            "\n"
          ]
        }
      ]
    },
    {
      "cell_type": "markdown",
      "source": [
        "**Plotting the mean graphs for cost function and ratio:**"
      ],
      "metadata": {
        "id": "sulTj1pM78Nw"
      }
    },
    {
      "cell_type": "code",
      "source": [
        "k_list = [5, 10, 20]\n",
        "f_mean = [np.mean(f1), np.mean(f2), np.mean(f3)]\n",
        "ratio_mean = [np.mean(ratio1), np.mean(ratio2), np.mean(ratio3)]\n",
        "plt.figure()\n",
        "plt.plot(k_list, f_mean, color = 'blue')\n",
        "plt.xlabel('k')\n",
        "plt.ylabel('Mean')\n",
        "plt.title('Mean of the cost function')\n",
        "plt.show()\n",
        "\n",
        "plt.figure()\n",
        "plt.plot(k_list, ratio_mean, color = 'red')\n",
        "plt.xlabel('k')\n",
        "plt.ylabel('Mean')\n",
        "plt.title('Mean of the ratio')\n",
        "plt.show()"
      ],
      "metadata": {
        "colab": {
          "base_uri": "https://localhost:8080/",
          "height": 573
        },
        "id": "CU8ZWGjq8B37",
        "outputId": "300706a7-c548-4d35-a3f6-a1a85fb9eb0f"
      },
      "execution_count": null,
      "outputs": [
        {
          "output_type": "display_data",
          "data": {
            "text/plain": [
              "<Figure size 432x288 with 1 Axes>"
            ],
            "image/png": "[encoded data removed]"
          },
          "metadata": {
            "needs_background": "light"
          }
        },
        {
          "output_type": "display_data",
          "data": {
            "text/plain": [
              "<Figure size 432x288 with 1 Axes>"
            ],
            "image/png": "[encoded data removed]"
          },
          "metadata": {
            "needs_background": "light"
          }
        }
      ]
    },
    {
      "cell_type": "markdown",
      "source": [
        "\n",
        "### **Smart K-means Clustering**"
      ],
      "metadata": {
        "id": "RgXCdeOJ-y5f"
      }
    },
    {
      "cell_type": "code",
      "source": [
        "# For k = 5 and 20 constraints:\n",
        "constraints_num1 = 20\n",
        "constrained20_f1, ratio_20_k1 = Constrained_K_mean(k1, data, itr, constraints_num1)"
      ],
      "metadata": {
        "id": "mqnuXiUbFZ3s"
      },
      "execution_count": null,
      "outputs": []
    },
    {
      "cell_type": "code",
      "source": [
        "# For k = 5 and 40 constraints:\n",
        "constraints_num2 = 40\n",
        "constrained40_f1, ratio_40_k1 = Constrained_K_mean(k1, data, itr, constraints_num2)"
      ],
      "metadata": {
        "id": "UnntsJq_mOol"
      },
      "execution_count": null,
      "outputs": []
    },
    {
      "cell_type": "code",
      "source": [
        "# For k = 5 and 60 constraints:\n",
        "constraints_num3 = 60\n",
        "constrained60_f1, ratio_60_k1 = Constrained_K_mean(k1, data, itr, constraints_num3)"
      ],
      "metadata": {
        "id": "JppiNk4LmQ7F"
      },
      "execution_count": null,
      "outputs": []
    },
    {
      "cell_type": "code",
      "source": [
        "# Plotting cost function:\n",
        "plt.figure()\n",
        "Itr = list(range(1, itr + 1))\n",
        "plt.plot(Itr, constrained20_f1, color = 'black')\n",
        "plt.plot(Itr, constrained40_f1, color = 'red')\n",
        "plt.plot(Itr, constrained60_f1, color = 'green')\n",
        "plt.xlabel('Iterations')\n",
        "plt.ylabel('Cost function')\n",
        "plt.legend(['constraints = 20','constraints = 40','constraints = 60'])\n",
        "plt.title('Cost Function for k = {}'.format(k1))\n",
        "plt.show()\n",
        "\n",
        "# Plotting ratios:\n",
        "plt.figure()\n",
        "k_list = [5, 10, 20]\n",
        "plt.plot(Itr, ratio_20_k1, color = 'black')\n",
        "plt.plot(Itr, ratio_40_k1, color = 'red')\n",
        "plt.plot(Itr, ratio_60_k1, color = 'green')\n",
        "plt.xlabel('k')\n",
        "plt.ylabel('Ratio')\n",
        "plt.legend(['constraints = 20','constraints = 40','constraints = 60'])\n",
        "plt.title('Ratio for k = 5')\n",
        "plt.show()"
      ],
      "metadata": {
        "colab": {
          "base_uri": "https://localhost:8080/",
          "height": 573
        },
        "id": "FyP5WURzmWli",
        "outputId": "d972833a-19c6-4ed2-8192-bbf90fd0a303"
      },
      "execution_count": null,
      "outputs": [
        {
          "output_type": "display_data",
          "data": {
            "text/plain": [
              "<Figure size 432x288 with 1 Axes>"
            ],
            "image/png": "[encoded data removed]"
          },
          "metadata": {
            "needs_background": "light"
          }
        },
        {
          "output_type": "display_data",
          "data": {
            "text/plain": [
              "<Figure size 432x288 with 1 Axes>"
            ],
            "image/png": "[encoded data removed]"
          },
          "metadata": {
            "needs_background": "light"
          }
        }
      ]
    },
    {
      "cell_type": "code",
      "source": [
        "# For k = 10 and 20 constraints:\n",
        "constrained20_f2, ratio_20_k2 = Constrained_K_mean(k2, data, itr, constraints_num1)"
      ],
      "metadata": {
        "id": "O6LwWuQV_ikC"
      },
      "execution_count": null,
      "outputs": []
    },
    {
      "cell_type": "code",
      "source": [
        "# For k = 10 and 40 constraints:\n",
        "constrained40_f2, ratio_40_k2 = Constrained_K_mean(k2, data, itr, constraints_num2)"
      ],
      "metadata": {
        "id": "bnFuyZwHqIg0"
      },
      "execution_count": null,
      "outputs": []
    },
    {
      "cell_type": "code",
      "source": [
        "# For k = 10 and 60 constraints:\n",
        "constrained60_f2, ratio_60_k2 = Constrained_K_mean(k2, data, itr, constraints_num3)"
      ],
      "metadata": {
        "id": "vvUHVLex_15A"
      },
      "execution_count": null,
      "outputs": []
    },
    {
      "cell_type": "code",
      "source": [
        "# Plotting cost function:\n",
        "plt.figure()\n",
        "Itr = list(range(1, itr + 1))\n",
        "plt.plot(Itr, constrained20_f2, color = 'black')\n",
        "plt.plot(Itr, constrained40_f2, color = 'red')\n",
        "plt.plot(Itr, constrained60_f2, color = 'green')\n",
        "plt.xlabel('Iterations')\n",
        "plt.ylabel('Cost function')\n",
        "plt.legend(['constraints = 20','constraints = 40','constraints = 60'])\n",
        "plt.title('Cost Function for k = {}'.format(k2))\n",
        "plt.show()\n",
        "\n",
        "# Plotting ratios:\n",
        "plt.figure()\n",
        "k_list = [5, 10, 20]\n",
        "plt.plot(Itr, ratio_20_k2, color = 'black')\n",
        "plt.plot(Itr, ratio_40_k2, color = 'red')\n",
        "plt.plot(Itr, ratio_60_k2, color = 'green')\n",
        "plt.xlabel('k')\n",
        "plt.ylabel('Ratio')\n",
        "plt.legend(['constraints = 20','constraints = 40','constraints = 60'])\n",
        "plt.title('Ratio for k = 10')\n",
        "plt.show()"
      ],
      "metadata": {
        "colab": {
          "base_uri": "https://localhost:8080/",
          "height": 573
        },
        "id": "SwtIDb8rqRqd",
        "outputId": "6ad045aa-f1e8-49c9-e121-6030fedd4075"
      },
      "execution_count": null,
      "outputs": [
        {
          "output_type": "display_data",
          "data": {
            "text/plain": [
              "<Figure size 432x288 with 1 Axes>"
            ],
            "image/png": "[encoded data removed]"
          },
          "metadata": {
            "needs_background": "light"
          }
        },
        {
          "output_type": "display_data",
          "data": {
            "text/plain": [
              "<Figure size 432x288 with 1 Axes>"
            ],
            "image/png": "[encoded data removed]"
          },
          "metadata": {
            "needs_background": "light"
          }
        }
      ]
    },
    {
      "cell_type": "code",
      "source": [
        "# For k = 20 and 20 constraints:\n",
        "constrained20_f3, ratio_20_k3 = Constrained_K_mean(k3, data, itr, constraints_num1)"
      ],
      "metadata": {
        "id": "ZcadmcVv__kG"
      },
      "execution_count": null,
      "outputs": []
    },
    {
      "cell_type": "code",
      "source": [
        "# For k = 20 and 40 constraints:\n",
        "constrained40_f3, ratio_40_k3 = Constrained_K_mean(k3, data, itr, constraints_num2)"
      ],
      "metadata": {
        "id": "QlRoTQT9ANgz"
      },
      "execution_count": null,
      "outputs": []
    },
    {
      "cell_type": "code",
      "source": [
        "# For k = 20 and 60 constraints:\n",
        "constrained60_f3, ratio_60_k3 = Constrained_K_mean(k3, data, itr, constraints_num3)"
      ],
      "metadata": {
        "id": "jOFts4dBARvK"
      },
      "execution_count": null,
      "outputs": []
    },
    {
      "cell_type": "code",
      "source": [
        "# Plotting cost function:\n",
        "plt.figure()\n",
        "Itr = list(range(1, itr + 1))\n",
        "plt.plot(Itr, constrained20_f3, color = 'black')\n",
        "plt.plot(Itr, constrained40_f3, color = 'red')\n",
        "plt.plot(Itr, constrained60_f3, color = 'green')\n",
        "plt.xlabel('Iterations')\n",
        "plt.ylabel('Cost function')\n",
        "plt.legend(['constraints = 20','constraints = 40','constraints = 60'])\n",
        "plt.title('Cost Function for k = {}'.format(k3))\n",
        "plt.show()\n",
        "\n",
        "# Plotting ratios:\n",
        "plt.figure()\n",
        "k_list = [5, 10, 20]\n",
        "plt.plot(Itr, ratio_20_k3, color = 'black')\n",
        "plt.plot(Itr, ratio_40_k3, color = 'red')\n",
        "plt.plot(Itr, ratio_60_k3, color = 'green')\n",
        "plt.xlabel('k')\n",
        "plt.ylabel('Ratio')\n",
        "plt.legend(['constraints = 20','constraints = 40','constraints = 60'])\n",
        "plt.title('Ratio for k = 20')\n",
        "plt.show()"
      ],
      "metadata": {
        "colab": {
          "base_uri": "https://localhost:8080/",
          "height": 573
        },
        "id": "8dlDUJ8SrFT3",
        "outputId": "fa802d10-e85b-4005-90e7-6524fe0fc432"
      },
      "execution_count": null,
      "outputs": [
        {
          "output_type": "display_data",
          "data": {
            "text/plain": [
              "<Figure size 432x288 with 1 Axes>"
            ],
            "image/png": "[encoded data removed]"
          },
          "metadata": {
            "needs_background": "light"
          }
        },
        {
          "output_type": "display_data",
          "data": {
            "text/plain": [
              "<Figure size 432x288 with 1 Axes>"
            ],
            "image/png": "[encoded data removed]"
          },
          "metadata": {
            "needs_background": "light"
          }
        }
      ]
    },
    {
      "cell_type": "markdown",
      "source": [
        "### **Functions:**"
      ],
      "metadata": {
        "id": "gGspam9FFaml"
      }
    },
    {
      "cell_type": "code",
      "source": [
        "# A function for calculating Euclidean Distance:\n",
        "def Euclidean_Distance(in1, in2):\n",
        "  distance = sqrt(sum((in1 - in2)**2))\n",
        "  return distance\n",
        "\n",
        "# ------------------------------------------------------------------------------\n",
        "# A function for choosing k random centroids:\n",
        "def K_Centroids(k, data):\n",
        "  centroids = []\n",
        "  for i in range(k):\n",
        "    indx = random.randint(0 , data.shape[0]-1)\n",
        "    C = data[indx]\n",
        "    centroids.append(C)\n",
        "  return centroids\n",
        "\n",
        "# ------------------------------------------------------------------------------\n",
        "# A function for clustering the data:\n",
        "def Clustering(k, data, centroids):\n",
        "  labels = []\n",
        "  for point in data:\n",
        "    distance = []\n",
        "\n",
        "    # calculate distance of every point with each of the clusters\n",
        "    for centroid in centroids:\n",
        "      dist = Euclidean_Distance(point, centroid)\n",
        "      distance.append(dist)\n",
        "\n",
        "    labels.append(np.argmin(distance))\n",
        "  return labels\n",
        "\n",
        "# ------------------------------------------------------------------------------\n",
        "# A function for reading and saving constraints of the text file:\n",
        "import csv\n",
        "def read_constraints(constraints_num):\n",
        "  di = []\n",
        "  dj = []\n",
        "  state = []\n",
        "  with open('Constraint.txt', newline = '') as values:                                                                                          \n",
        "    value_reader = csv.reader(values, delimiter='\\t')\n",
        "    for value in value_reader:\n",
        "      di.append(value[0])\n",
        "      dj.append(value[1])\n",
        "      state.append(value[2])\n",
        "\n",
        "  # Eliminating the labels of the text file:\n",
        "  del di[0]\n",
        "  del dj[0]\n",
        "  del state[0]\n",
        "  # Converting string values to int:\n",
        "  di = [eval(i) for i in di]\n",
        "  dj = [eval(i) for i in dj]\n",
        "  state = [eval(i) for i in state]\n",
        "  # Choosing random constraints:\n",
        "  di = random.sample(di, constraints_num)\n",
        "  dj = random.sample(dj, constraints_num)\n",
        "  state = random.sample(state, constraints_num)\n",
        "  return di, dj, state\n",
        "\n",
        "# ------------------------------------------------------------------------------\n",
        "# A function for evaluating the constraints and clustering data again:\n",
        "def Constrained_Clustering(k, data, centroids, labels, di, dj, state):\n",
        "  for i in range(0, data.shape[0]-1):\n",
        "    if (i in di):\n",
        "\n",
        "      # The constraint for being in the same clusters:\n",
        "      if state == 1:\n",
        "        if labels[di] != labels[dj]:   # if state = 1 but we have two different labels\n",
        "          di_dist = Euclidean_Distance(data[di], centroids[labels[di]])\n",
        "          dj_dist = Euclidean_Distance(data[dj], centroids[labels[dj]])\n",
        "          if di_dist < dj_dist:   # the right cluster is the cluster in which di is located\n",
        "            labels[dj] = labels[di]\n",
        "          elif dj_dist < di_dist:  # the right cluster is the cluster in which dj is located\n",
        "            labels[di] = labels[dj]\n",
        "\n",
        "      # The constraint for being in different clusters:\n",
        "      elif state == -1:\n",
        "        if labels[di] == labels[dj]:   # if state = -1 but we have two identical labels\n",
        "          di_dist = Euclidean_Distance(data[di], centroids[labels[di]])\n",
        "          dj_dist = Euclidean_Distance(data[dj], centroids[labels[dj]])\n",
        "          if di_dist < dj_dist:   # di is in the right cluster and dj should be labeled again in the closest cluster\n",
        "            dist = [0 for j in range(k)]\n",
        "            dist[labels[di]] = 1e5\n",
        "            for c in range(k):\n",
        "              if c != labels[di]:\n",
        "                dist[c] = Euclidean_Distance(data[dj], centroids[c])\n",
        "            labels[dj] = np.argmin(dist)\n",
        "\n",
        "          elif dj_dist < di_dist:  # dj is in the right cluster and di should be labeled again in the closest cluster\n",
        "            dist = [0 for j in range(k)]\n",
        "            dist[labels[dj]] = 1e5\n",
        "            for c in range(k):\n",
        "              if c != labels[dj]:\n",
        "                dist[c] = Euclidean_Distance(data[di], centroids[c])\n",
        "            labels[di] = np.argmin(dist)\n",
        "    \n",
        "  return labels\n",
        "\n",
        "# ------------------------------------------------------------------------------\n",
        "# Cost function:\n",
        "def Cost_Function(k, data, centroids, labels):\n",
        "  dist_sum = 0\n",
        "  for i in range(k):\n",
        "    cluster_sum = 0\n",
        "    for j in range(0, data.shape[0]):\n",
        "      if labels[j] == i:\n",
        "        cluster_sum += Euclidean_Distance(data[j], centroids[i])\n",
        "    dist_sum += cluster_sum\n",
        "  return dist_sum\n",
        "  \n",
        "# ------------------------------------------------------------------------------\n",
        "# A function for updating centroids:\n",
        "def Update_Centroids(k, data, centroids, labels):\n",
        "  updated_centroids = []\n",
        "  for i in range(k):\n",
        "    cluster_points = []\n",
        "    for j in range(0, data.shape[0]-1):\n",
        "      if labels[j] == i:\n",
        "        cluster_points.append(data[j])\n",
        "\n",
        "    cluster_avg = np.mean(cluster_points, axis = 0)\n",
        "    updated_centroids.append(cluster_avg)\n",
        "  return updated_centroids\n",
        "\n",
        "# ------------------------------------------------------------------------------\n",
        "# Overall function for implementing K-mean algorithm:\n",
        "def Constrained_K_mean(k, data, itr, constraints_num):\n",
        "  cost_func = []\n",
        "  ratio_list = []\n",
        "  di, dj, state = read_constraints(constraints_num)\n",
        "  # Choosing the primary centroids:\n",
        "  centroids = K_Centroids(k, data)\n",
        "\n",
        "  for i in range(itr):\n",
        "    # Clustering:\n",
        "    labels = Clustering(k, data, centroids)\n",
        "\n",
        "    # Evaluating the constraints:\n",
        "    labels = Constrained_Clustering(k, data, centroids, labels, di, dj, state)\n",
        "\n",
        "    # Cost Function:\n",
        "    cost_func.append(Cost_Function(k, data, centroids, labels))\n",
        "\n",
        "    # Outer distance:\n",
        "    outer_distance = Outer_Distance(k, data, centroids, labels)\n",
        "\n",
        "    # Ratio calculation:\n",
        "    ratio_list.append(Ratio(outer_distance, cost_func[i]))\n",
        "\n",
        "    # Updating centroids:\n",
        "    centroids = Update_Centroids(k, data, centroids, labels)\n",
        "  return cost_func, ratio_list"
      ],
      "metadata": {
        "id": "CK9CoCpnFdd6"
      },
      "execution_count": null,
      "outputs": []
    },
    {
      "cell_type": "code",
      "source": [
        "k_main = 3\n",
        "simple_alg_labels = Simple_K_mean(k_main, data, itr)\n",
        "smart_alg_labels = Smart_K_mean(k_main, data, itr, 60)\n",
        "Data = load_iris()\n",
        "true_labels = Data['target']\n",
        "simple_accuracy = Accuracy(simple_alg_labels)\n",
        "smart_accuracy = Accuracy(smart_alg_labels)\n",
        "print(\"The accuracy for simple k_mean algorithm is: {}\".format(simple_accuracy))\n",
        "print(\"The accuracy for smart k_mean algorithm is: {}\".format(smart_accuracy))"
      ],
      "metadata": {
        "colab": {
          "base_uri": "https://localhost:8080/"
        },
        "id": "dHVLRwH74Pda",
        "outputId": "c73852a2-d717-4237-8666-c08fe4fead4a"
      },
      "execution_count": null,
      "outputs": [
        {
          "output_type": "stream",
          "name": "stdout",
          "text": [
            "The accuracy for simple k_mean algorithm is: 0.8133333333333334\n",
            "The accuracy for smart k_mean algorithm is: 0.82\n"
          ]
        }
      ]
    },
    {
      "cell_type": "markdown",
      "source": [
        "### **Functions:**"
      ],
      "metadata": {
        "id": "QghqY5rx45E7"
      }
    },
    {
      "cell_type": "code",
      "source": [
        "# Simple K_mean:\n",
        "def Simple_K_mean(k, data, itr):\n",
        "  # Choosing the primary centroids:\n",
        "  centroids = K_Centroids(k, data)\n",
        "\n",
        "  for i in range(itr):\n",
        "    # Clustering:\n",
        "    labels = Clustering(k, data, centroids)\n",
        "\n",
        "    # Updating centroids:\n",
        "    centroids = Update_Centroids(k, data, centroids, labels)\n",
        "  return labels\n",
        "\n",
        "# ------------------------------------------------------------------------------\n",
        "# Smart K_mean:\n",
        "def Smart_K_mean(k, data, itr, constraints_num):\n",
        "  di, dj, state = read_constraints(constraints_num)\n",
        "  # Choosing the primary centroids:\n",
        "  centroids = K_Centroids(k, data)\n",
        "\n",
        "  for i in range(itr):\n",
        "    # Clustering:\n",
        "    labels = Clustering(k, data, centroids)\n",
        "\n",
        "    # Evaluating the constraints:\n",
        "    labels = Constrained_Clustering(k, data, centroids, labels, di, dj, state)\n",
        "\n",
        "    # Updating centroids:\n",
        "    centroids = Update_Centroids(k, data, centroids, labels)\n",
        "  return labels\n",
        "\n",
        "# ------------------------------------------------------------------------------\n",
        "# Accuracy Calculation:\n",
        "from statistics import mode\n",
        "def Accuracy(predicted_labels):\n",
        "  labels = [mode(predicted_labels[0:50]), mode(predicted_labels[50:100]), mode(predicted_labels[100:])]\n",
        "  count = sum(predicted_labels[0:50] == np.ones(50)*labels[0]) + sum(predicted_labels[50:100] == np.ones(50)*labels[1]) + sum(predicted_labels[100:] == np.ones(50)*labels[2])\n",
        "  accuracy = count/len(predicted_labels)\n",
        "  return accuracy"
      ],
      "metadata": {
        "id": "x1WV2PPS47I5"
      },
      "execution_count": null,
      "outputs": []
    }
  ]
}